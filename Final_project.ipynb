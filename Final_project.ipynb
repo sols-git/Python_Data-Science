{
 "cells": [
  {
   "cell_type": "markdown",
   "metadata": {},
   "source": [
    "# Python для Data Science: Итоговый проект"
   ]
  },
  {
   "cell_type": "code",
   "execution_count": 139,
   "metadata": {},
   "outputs": [],
   "source": [
    "import numpy as np\n",
    "import pandas as pd\n",
    "import seaborn as sns\n",
    "import matplotlib.pyplot as plt\n",
    "import datetime \n",
    "from sklearn import ensemble\n",
    "from matplotlib import style\n",
    "from sklearn.ensemble import VotingRegressor\n",
    "from sklearn.ensemble import RandomForestRegressor\n",
    "from lightgbm import LGBMRegressor\n",
    "from sklearn.model_selection import train_test_split, KFold, GridSearchCV, cross_val_score\n",
    "\n",
    "style.use('fivethirtyeight')\n",
    "%matplotlib inline\n",
    "\n",
    "TEST_DATASET_PATH = 'test.csv'\n",
    "TRAIN_DATASET_PATH = 'train.csv'\n",
    "\n",
    "test_data = pd.read_csv(TEST_DATASET_PATH)\n",
    "train_data = pd.read_csv(TRAIN_DATASET_PATH)"
   ]
  },
  {
   "cell_type": "code",
   "execution_count": 140,
   "metadata": {},
   "outputs": [
    {
     "name": "stdout",
     "output_type": "stream",
     "text": [
      "<class 'pandas.core.frame.DataFrame'>\n",
      "RangeIndex: 5000 entries, 0 to 4999\n",
      "Data columns (total 19 columns):\n",
      "Id               5000 non-null int64\n",
      "DistrictId       5000 non-null int64\n",
      "Rooms            5000 non-null float64\n",
      "Square           5000 non-null float64\n",
      "LifeSquare       3959 non-null float64\n",
      "KitchenSquare    5000 non-null float64\n",
      "Floor            5000 non-null int64\n",
      "HouseFloor       5000 non-null float64\n",
      "HouseYear        5000 non-null int64\n",
      "Ecology_1        5000 non-null float64\n",
      "Ecology_2        5000 non-null object\n",
      "Ecology_3        5000 non-null object\n",
      "Social_1         5000 non-null int64\n",
      "Social_2         5000 non-null int64\n",
      "Social_3         5000 non-null int64\n",
      "Healthcare_1     2623 non-null float64\n",
      "Helthcare_2      5000 non-null int64\n",
      "Shops_1          5000 non-null int64\n",
      "Shops_2          5000 non-null object\n",
      "dtypes: float64(7), int64(9), object(3)\n",
      "memory usage: 742.3+ KB\n"
     ]
    }
   ],
   "source": [
    "test_data.info()"
   ]
  },
  {
   "cell_type": "markdown",
   "metadata": {},
   "source": [
    "## Заполняем пропуски"
   ]
  },
  {
   "cell_type": "code",
   "execution_count": 141,
   "metadata": {},
   "outputs": [],
   "source": [
    "train_data = train_data.sort_values('Price')\n",
    "test_data = test_data.sort_values('DistrictId')\n",
    "train_data = train_data.fillna(method='pad')\n",
    "test_data = test_data.fillna(method='pad')"
   ]
  },
  {
   "cell_type": "markdown",
   "metadata": {},
   "source": [
    "## Создаем и обучаем модель"
   ]
  },
  {
   "cell_type": "code",
   "execution_count": 142,
   "metadata": {},
   "outputs": [],
   "source": [
    "X_train = pd.get_dummies(train_data)\n",
    "X_train.drop(\"Price\", axis=1, inplace=True)\n",
    "X_train.drop(\"Id\", axis=1, inplace=True)\n",
    "y_train = train_data.Price\n",
    "\n",
    "model1 = ensemble.GradientBoostingRegressor(n_estimators=442, max_depth=5, min_samples_split=3,\n",
    "                                           learning_rate=0.1, loss='ls', random_state=45)\n",
    "model2 = RandomForestRegressor(n_estimators=1500, max_depth=20, random_state=42, max_features=7)\n",
    "model3 = LGBMRegressor(max_depth=7,\n",
    "                             min_samples_leaf=10,\n",
    "                             n_estimators=400,\n",
    "                             random_state=42)\n",
    "\n",
    "model = VotingRegressor([('model1', model1), ('model2', model2), ('model3', model3)])\n"
   ]
  },
  {
   "cell_type": "code",
   "execution_count": 143,
   "metadata": {},
   "outputs": [
    {
     "name": "stdout",
     "output_type": "stream",
     "text": [
      "R2: 0.759 +- 0.019\n"
     ]
    }
   ],
   "source": [
    "cv_score = cross_val_score(model, X_train, y_train, \n",
    "                           scoring='r2', \n",
    "                           cv=KFold(n_splits=5, shuffle=True, random_state=42))\n",
    "# cv_score\n",
    "mean = cv_score.mean()\n",
    "std = cv_score.std()\n",
    "\n",
    "print('R2: {:.3f} +- {:.3f}'.format(mean, std))"
   ]
  },
  {
   "cell_type": "code",
   "execution_count": 144,
   "metadata": {},
   "outputs": [
    {
     "data": {
      "text/plain": [
       "VotingRegressor(estimators=[('model1',\n",
       "                             GradientBoostingRegressor(alpha=0.9,\n",
       "                                                       criterion='friedman_mse',\n",
       "                                                       init=None,\n",
       "                                                       learning_rate=0.1,\n",
       "                                                       loss='ls', max_depth=5,\n",
       "                                                       max_features=None,\n",
       "                                                       max_leaf_nodes=None,\n",
       "                                                       min_impurity_decrease=0.0,\n",
       "                                                       min_impurity_split=None,\n",
       "                                                       min_samples_leaf=1,\n",
       "                                                       min_samples_split=3,\n",
       "                                                       min_weight_fraction_leaf=0.0,\n",
       "                                                       n_estimators=442,\n",
       "                                                       n_iter_no_change=None,\n",
       "                                                       presor...\n",
       "                                           colsample_bytree=1.0,\n",
       "                                           importance_type='split',\n",
       "                                           learning_rate=0.1, max_depth=7,\n",
       "                                           min_child_samples=20,\n",
       "                                           min_child_weight=0.001,\n",
       "                                           min_samples_leaf=10,\n",
       "                                           min_split_gain=0.0, n_estimators=400,\n",
       "                                           n_jobs=-1, num_leaves=31,\n",
       "                                           objective=None, random_state=42,\n",
       "                                           reg_alpha=0.0, reg_lambda=0.0,\n",
       "                                           silent=True, subsample=1.0,\n",
       "                                           subsample_for_bin=200000,\n",
       "                                           subsample_freq=0))],\n",
       "                n_jobs=None, weights=None)"
      ]
     },
     "execution_count": 144,
     "metadata": {},
     "output_type": "execute_result"
    }
   ],
   "source": [
    "model.fit(X_train, y_train)"
   ]
  },
  {
   "cell_type": "markdown",
   "metadata": {},
   "source": [
    "## Предсказываем цены и выгружаем в файл"
   ]
  },
  {
   "cell_type": "code",
   "execution_count": 145,
   "metadata": {},
   "outputs": [],
   "source": [
    "X_test = pd.get_dummies(test_data)\n",
    "X_test.drop(\"Id\", axis=1, inplace=True)\n",
    "test_data[\"Price\"] = model.predict(X_test)\n",
    "test_data.loc[:, ['Id', 'Price']].to_csv('final_project_SS.csv', index=False)"
   ]
  },
  {
   "cell_type": "code",
   "execution_count": null,
   "metadata": {},
   "outputs": [],
   "source": []
  }
 ],
 "metadata": {
  "kernelspec": {
   "display_name": "Python 3",
   "language": "python",
   "name": "python3"
  },
  "language_info": {
   "codemirror_mode": {
    "name": "ipython",
    "version": 3
   },
   "file_extension": ".py",
   "mimetype": "text/x-python",
   "name": "python",
   "nbconvert_exporter": "python",
   "pygments_lexer": "ipython3",
   "version": "3.7.4"
  }
 },
 "nbformat": 4,
 "nbformat_minor": 4
}
